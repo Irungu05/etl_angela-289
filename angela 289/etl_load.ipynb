import pandas as pd
import sqlite3

# Load transformed CSVs
df_full = pd.read_csv('transformed/transformed_full.csv')
df_incremental = pd.read_csv('transformed/transformed_incremental.csv')

# Save to SQLite
conn_full = sqlite3.connect('loaded/full_data.db')
df_full.to_sql('full_data', conn_full, if_exists='replace', index=False)
conn_full.commit()

conn_incr = sqlite3.connect('loaded/incremental_data.db')
df_incremental.to_sql('incremental_data', conn_incr, if_exists='replace', index=False)
conn_incr.commit()

# Verify result
print("Preview of full_data from SQLite:")
print(pd.read_sql("SELECT * FROM full_data LIMIT 5", conn_full))

# Close connections
conn_full.close()
conn_incr.close()
