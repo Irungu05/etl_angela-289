import pandas as pd

# Load data
df_full = pd.read_csv('data/raw_data.csv')
df_incremental = pd.read_csv('data/incremental_data.csv')

# Define transformation function
def transform(df):
    df = df.drop_duplicates()
    df['quantity'].fillna(df['quantity'].median(), inplace=True)
    df['unit_price'].fillna(df['unit_price'].median(), inplace=True)
    df['customer_name'].fillna('Unknown', inplace=True)
    df['region'].fillna('Unknown', inplace=True)
    df['total_price'] = df['quantity'] * df['unit_price']
    df['order_date'] = pd.to_datetime(df['order_date'], errors='coerce')
    df['order_month'] = df['order_date'].dt.to_period('M').astype(str)
    return df

# Apply transformations
transformed_full = transform(df_full)
transformed_incremental = transform(df_incremental)

# Save to transformed/ folder
transformed_full.to_csv('transformed/transformed_full.csv', index=False)
transformed_incremental.to_csv('transformed/transformed_incremental.csv', index=False)

# Preview
print("TRANSFORMED FULL DATA (head):")
print(transformed_full.head())

print("\nTRANSFORMATIONS APPLIED:")
print("1. Removed duplicates")
print("2. Filled missing quantity/unit_price with median")
print("3. Replaced nulls in customer_name and region with 'Unknown'")
print("4. Created total_price column")
print("5. Converted order_date to datetime and extracted order_month")
