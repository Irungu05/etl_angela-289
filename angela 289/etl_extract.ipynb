import pandas as pd

# Load CSVs
raw_df = pd.read_csv('data/raw_data.csv')
incremental_df = pd.read_csv('data/incremental_data.csv')

# Preview both datasets
print("RAW DATA (head):")
print(raw_df.head())
print("\nRAW DATA (info):")
print(raw_df.info())

print("\nINCREMENTAL DATA (head):")
print(incremental_df.head())
print("\nINCREMENTAL DATA (info):")
print(incremental_df.info())

# Observations
print("\nOBSERVATIONS:")
print("- Missing values found in 'quantity', 'unit_price', 'customer_name', and 'region'")
print("- 'order_date' should be converted to datetime")
print("- Possible duplicate rows should be checked")
